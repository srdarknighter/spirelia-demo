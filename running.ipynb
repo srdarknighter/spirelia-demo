{
 "cells": [
  {
   "cell_type": "code",
   "execution_count": 1,
   "id": "be6f8bdf",
   "metadata": {},
   "outputs": [
    {
     "name": "stdout",
     "output_type": "stream",
     "text": [
      "Initial state: {'question': 'how is a bee able to fly despite its weight?', 'messages': [], 'remaining_steps': 5}\n"
     ]
    },
    {
     "ename": "AttributeError",
     "evalue": "'generator' object has no attribute 'content'",
     "output_type": "error",
     "traceback": [
      "\u001b[0;31m---------------------------------------------------------------------------\u001b[0m",
      "\u001b[0;31mAttributeError\u001b[0m                            Traceback (most recent call last)",
      "Cell \u001b[0;32mIn[1], line 7\u001b[0m\n\u001b[1;32m      4\u001b[0m analyzer \u001b[38;5;241m=\u001b[39m Analyzer()\n\u001b[1;32m      6\u001b[0m \u001b[38;5;66;03m# Call the instance with your question string\u001b[39;00m\n\u001b[0;32m----> 7\u001b[0m result \u001b[38;5;241m=\u001b[39m \u001b[43manalyzer\u001b[49m\u001b[43m(\u001b[49m\u001b[38;5;124;43m\"\u001b[39;49m\u001b[38;5;124;43mhow is a bee able to fly despite its weight?\u001b[39;49m\u001b[38;5;124;43m\"\u001b[39;49m\u001b[43m)\u001b[49m\n\u001b[1;32m      8\u001b[0m \u001b[38;5;66;03m# Print the result\u001b[39;00m\n\u001b[1;32m      9\u001b[0m \u001b[38;5;28mprint\u001b[39m(result[\u001b[38;5;124m\"\u001b[39m\u001b[38;5;124moutput\u001b[39m\u001b[38;5;124m\"\u001b[39m])\n",
      "File \u001b[0;32m~/code/spirelia-demo/analyzer/analyzer.py:27\u001b[0m, in \u001b[0;36mAnalyzer.__call__\u001b[0;34m(self, input)\u001b[0m\n\u001b[1;32m     25\u001b[0m \u001b[38;5;28mprint\u001b[39m(\u001b[38;5;124m\"\u001b[39m\u001b[38;5;124mInitial state:\u001b[39m\u001b[38;5;124m\"\u001b[39m, state)\n\u001b[1;32m     26\u001b[0m response \u001b[38;5;241m=\u001b[39m \u001b[38;5;28mself\u001b[39m\u001b[38;5;241m.\u001b[39msupervisor\u001b[38;5;241m.\u001b[39mstream(state)\n\u001b[0;32m---> 27\u001b[0m \u001b[38;5;28mprint\u001b[39m(\u001b[38;5;124m\"\u001b[39m\u001b[38;5;124mState after supervisor invoke:\u001b[39m\u001b[38;5;124m\"\u001b[39m, \u001b[43mresponse\u001b[49m\u001b[38;5;241;43m.\u001b[39;49m\u001b[43mcontent\u001b[49m)\n\u001b[1;32m     29\u001b[0m \u001b[38;5;28;01mreturn\u001b[39;00m {\u001b[38;5;124m\"\u001b[39m\u001b[38;5;124moutput\u001b[39m\u001b[38;5;124m\"\u001b[39m: response\u001b[38;5;241m.\u001b[39mcontent}\n",
      "\u001b[0;31mAttributeError\u001b[0m: 'generator' object has no attribute 'content'"
     ]
    }
   ],
   "source": [
    "from analyzer.analyzer import Analyzer\n",
    "\n",
    "# Create an Analyzer instance\n",
    "analyzer = Analyzer()\n",
    "\n",
    "# Call the instance with your question string\n",
    "result = analyzer(\"how is a bee able to fly despite its weight?\")\n",
    "# Print the result\n",
    "print(result[\"output\"])"
   ]
  },
  {
   "cell_type": "code",
   "execution_count": null,
   "id": "9d62c3c8",
   "metadata": {},
   "outputs": [
    {
     "name": "stdout",
     "output_type": "stream",
     "text": [
      "{'output': 'No report generated.'}\n"
     ]
    }
   ],
   "source": []
  },
  {
   "cell_type": "code",
   "execution_count": 2,
   "id": "39aaf19e",
   "metadata": {},
   "outputs": [],
   "source": [
    "from tools.tools import Tools\n",
    "# Create a Tool instance\n",
    "from langchain.chat_models import init_chat_model\n",
    "\n",
    "model = init_chat_model(\n",
    "            \"mistral-tiny\",\n",
    "            temperature=0.0,\n",
    "            max_tokens=1000\n",
    "        )\n",
    "\n",
    "tool = Tools(model)\n",
    "# Call the instance with your question string\n",
    "result = tool.query_analyzer_tool({\n",
    "            \"question\": \"how is a bee able to fly despite its weight?\",\n",
    "            \"messages\": [],\n",
    "            \"remaining_steps\": 5\n",
    "        })"
   ]
  },
  {
   "cell_type": "code",
   "execution_count": 3,
   "id": "90b8ef37",
   "metadata": {},
   "outputs": [
    {
     "name": "stdout",
     "output_type": "stream",
     "text": [
      "{'question': 'how is a bee able to fly despite its weight?', 'messages': [], 'remaining_steps': 4, 'classification': AIMessage(content='Factual', additional_kwargs={}, response_metadata={'token_usage': {'prompt_tokens': 76, 'total_tokens': 79, 'completion_tokens': 3}, 'model_name': 'mistral-tiny', 'model': 'mistral-tiny', 'finish_reason': 'stop'}, id='run--1479ec16-fb69-440d-86d3-aae3083a069e-0', usage_metadata={'input_tokens': 76, 'output_tokens': 3, 'total_tokens': 79})}\n"
     ]
    }
   ],
   "source": [
    "print(result)"
   ]
  },
  {
   "cell_type": "code",
   "execution_count": 4,
   "id": "355e4eb6",
   "metadata": {},
   "outputs": [
    {
     "name": "stderr",
     "output_type": "stream",
     "text": [
      "ERROR:root:Error fetching /html/: Invalid URL '/html/': No scheme supplied. Perhaps you meant https:///html/?\n",
      "ERROR:root:Error fetching //duckduckgo.com/l/?uddg=https%3A%2F%2Fwww.livescience.com%2F33075%2Dhow%2Dbees%2Dfly.html&rut=c6bb26a0063efb907e43b87710a596dce632b17f0f30e9bfb9923112141e5ded: Invalid URL '//duckduckgo.com/l/?uddg=https%3A%2F%2Fwww.livescience.com%2F33075%2Dhow%2Dbees%2Dfly.html&rut=c6bb26a0063efb907e43b87710a596dce632b17f0f30e9bfb9923112141e5ded': No scheme supplied. Perhaps you meant https:////duckduckgo.com/l/?uddg=https%3A%2F%2Fwww.livescience.com%2F33075%2Dhow%2Dbees%2Dfly.html&rut=c6bb26a0063efb907e43b87710a596dce632b17f0f30e9bfb9923112141e5ded?\n",
      "ERROR:root:Error fetching //duckduckgo.com/l/?uddg=https%3A%2F%2Fwww.livescience.com%2F33075%2Dhow%2Dbees%2Dfly.html&rut=c6bb26a0063efb907e43b87710a596dce632b17f0f30e9bfb9923112141e5ded: Invalid URL '//duckduckgo.com/l/?uddg=https%3A%2F%2Fwww.livescience.com%2F33075%2Dhow%2Dbees%2Dfly.html&rut=c6bb26a0063efb907e43b87710a596dce632b17f0f30e9bfb9923112141e5ded': No scheme supplied. Perhaps you meant https:////duckduckgo.com/l/?uddg=https%3A%2F%2Fwww.livescience.com%2F33075%2Dhow%2Dbees%2Dfly.html&rut=c6bb26a0063efb907e43b87710a596dce632b17f0f30e9bfb9923112141e5ded?\n",
      "ERROR:root:Error fetching //duckduckgo.com/l/?uddg=https%3A%2F%2Fwww.livescience.com%2F33075%2Dhow%2Dbees%2Dfly.html&rut=c6bb26a0063efb907e43b87710a596dce632b17f0f30e9bfb9923112141e5ded: Invalid URL '//duckduckgo.com/l/?uddg=https%3A%2F%2Fwww.livescience.com%2F33075%2Dhow%2Dbees%2Dfly.html&rut=c6bb26a0063efb907e43b87710a596dce632b17f0f30e9bfb9923112141e5ded': No scheme supplied. Perhaps you meant https:////duckduckgo.com/l/?uddg=https%3A%2F%2Fwww.livescience.com%2F33075%2Dhow%2Dbees%2Dfly.html&rut=c6bb26a0063efb907e43b87710a596dce632b17f0f30e9bfb9923112141e5ded?\n",
      "ERROR:root:Error fetching //duckduckgo.com/l/?uddg=https%3A%2F%2Fwww.livescience.com%2F33075%2Dhow%2Dbees%2Dfly.html&rut=c6bb26a0063efb907e43b87710a596dce632b17f0f30e9bfb9923112141e5ded: Invalid URL '//duckduckgo.com/l/?uddg=https%3A%2F%2Fwww.livescience.com%2F33075%2Dhow%2Dbees%2Dfly.html&rut=c6bb26a0063efb907e43b87710a596dce632b17f0f30e9bfb9923112141e5ded': No scheme supplied. Perhaps you meant https:////duckduckgo.com/l/?uddg=https%3A%2F%2Fwww.livescience.com%2F33075%2Dhow%2Dbees%2Dfly.html&rut=c6bb26a0063efb907e43b87710a596dce632b17f0f30e9bfb9923112141e5ded?\n"
     ]
    },
    {
     "name": "stdout",
     "output_type": "stream",
     "text": [
      "{'question': 'how is a bee able to fly despite its weight?', 'messages': [], 'remaining_steps': 3, 'classification': AIMessage(content='Factual', additional_kwargs={}, response_metadata={'token_usage': {'prompt_tokens': 76, 'total_tokens': 79, 'completion_tokens': 3}, 'model_name': 'mistral-tiny', 'model': 'mistral-tiny', 'finish_reason': 'stop'}, id='run--1479ec16-fb69-440d-86d3-aae3083a069e-0', usage_metadata={'input_tokens': 76, 'output_tokens': 3, 'total_tokens': 79}), 'search_results': {'/html/': '', '//duckduckgo.com/l/?uddg=https%3A%2F%2Fwww.livescience.com%2F33075%2Dhow%2Dbees%2Dfly.html&rut=c6bb26a0063efb907e43b87710a596dce632b17f0f30e9bfb9923112141e5ded': ''}}\n"
     ]
    }
   ],
   "source": [
    "web_result = tool.web_search_tool(result)\n",
    "print(web_result)"
   ]
  },
  {
   "cell_type": "code",
   "execution_count": 20,
   "id": "7292123b",
   "metadata": {},
   "outputs": [],
   "source": [
    "import requests\n",
    "url = \"https://api.tavily.com/search\"\n",
    "\n",
    "payload = {\n",
    "    \"query\": \"how is a bee able to fly despite its weight?\",\n",
    "    \"topic\": \"general\",\n",
    "    \"search_depth\": \"basic\",\n",
    "    \"chunks_per_source\": 3,\n",
    "    \"max_results\": 3,\n",
    "    \"time_range\": None,\n",
    "    \"days\": 7,\n",
    "    \"include_answer\": \"advanced\",\n",
    "    \"include_raw_content\": False,\n",
    "    \"include_images\": False,\n",
    "    \"include_image_descriptions\": False,\n",
    "    \"include_domains\": [],\n",
    "    \"exclude_domains\": []\n",
    "}\n",
    "\n",
    "headers = {\n",
    "    \"Authorization\": \"Bearer <apikey>",\n",
    "    \"Content-Type\": \"application/json\"\n",
    "}\n",
    "\n",
    "response = requests.request(\"POST\", url, json=payload, headers=headers)\n",
    "response_json = response.json()\n",
    "\n",
    "answer = response_json.get(\"answer\", \"\")\n",
    "\n",
    "contents = [item.get(\"content\", \"\") for item in response_json.get(\"results\", [])]\n",
    "contents_str = \"\\n\".join(contents)\n",
    "\n",
    "memory = {\n",
    "    \"answer\": answer,\n",
    "    \"contents\": contents_str[:1200]\n",
    "}"
   ]
  },
  {
   "cell_type": "code",
   "execution_count": 21,
   "id": "1da9bb7d",
   "metadata": {},
   "outputs": [
    {
     "name": "stdout",
     "output_type": "stream",
     "text": [
      "{'answer': 'Bees are able to fly despite their apparent weight due to several factors in their wing structure and flight mechanics. Contrary to popular misconception, bees do not have a large body mass relative to their wings. Their bodies appear bulky but are actually quite light. Bees employ a unique flying technique, flapping their wings in a more complex pattern than simple up and down motions. They rotate their wings in a figure-eight pattern, creating tiny hurricanes that generate lift. This allows them to achieve the necessary aerodynamic forces for flight. High-speed photography and robotic wing simulations have helped scientists better understand the physics behind bee flight, debunking the myth that bees defy known laws of aerodynamics. The efficiency of their wing movements, combined with their lightweight bodies, enables bees to fly effectively despite their seemingly disproportionate appearance.', 'contents': \"Answer (1 of 3): SUMMARY: It does not have a large body mass. You are misjudging it assuming it is large. . . There is an extremely important concept that most people are unaware of. This is called the scale, or Square Cube Law. The fat body of a bee is VERY deceptive because it is NOT heavy. R\\nNow, you don't need to be a scientist to raise an eyebrow at this assertion, but it sure is easier to explain the bumblebee's physics-defying aerodynamics if you're Michael Dickinson, a professor of biology and insect flight expert at the University of Washington. Dickinson published a 2005 study in the journal Proceedings of the National Academy of Sciences on the flight of the bumblebee after gathering data using high-speed photography of actual flying bees and force sensors on a larger-than-life robotic bee wing flapping around in mineral oil. He says the big misconception about insect flight and perhaps what tripped up Magnan is the belief that bumblebees flap their wings up and down.\\nAccording to some source or other (I forget which now) it is theoretically impossible for bumblebees to fly by virtue of their size/bulk/aerodynamic properties. Is this old adage apocraphyal or true? And if\"}\n"
     ]
    }
   ],
   "source": [
    "print(memory)"
   ]
  },
  {
   "cell_type": "code",
   "execution_count": null,
   "id": "bf330784",
   "metadata": {},
   "outputs": [],
   "source": [
    "from langchain.chat_models import init_chat_model\n",
    "\n",
    "model = init_chat_model(\n",
    "            \"mistral-tiny\",\n",
    "            temperature=0.0,\n",
    "            max_tokens=1000\n",
    "        )\n",
    "query = \"how is a bee able to fly despite its weight?\"\n",
    "# search_results = state.get(\"search_results\", {})\n",
    "answer = memory.get(\"answer\", \"\")\n",
    "contents = memory.get(\"contents\", \"\")\n",
    "\n",
    "claims_text = f\"Answer:\\n{answer}\\n\\nSupporting Contents:\\n{contents}\"\n",
    "\n",
    "fact_check_prompt = f\"\"\"Cross-verify claims from multiple sources to confirm their reliability for the following query:\n",
    "\n",
    "User Query: {query}\n",
    "\n",
    "Claims: {claims_text}\n",
    "Verified Claims:\n",
    "\"\"\"\n",
    "message = [\n",
    "    {\"role\": \"system\", \"content\": \"You are a fact-checking expert\"},\n",
    "    {\"role\": \"user\", \"content\": fact_check_prompt}\n",
    "]\n",
    "\n",
    "response = model.invoke(message)\n",
    "verified_claims = response.get(\"content\", \"\")"
   ]
  },
  {
   "cell_type": "code",
   "execution_count": 27,
   "id": "20fffd41",
   "metadata": {},
   "outputs": [
    {
     "name": "stdout",
     "output_type": "stream",
     "text": [
      "The claim that bees are able to fly despite their weight due to their unique wing structure and flight mechanics is supported by scientific evidence. The misconception that bees defy known laws of aerodynamics is debunked by high-speed photography and robotic wing simulations. The efficiency of their wing movements, combined with their lightweight bodies, enables bees to fly effectively despite their seemingly disproportionate appearance.\n",
      "\n",
      "The claim is supported by the following sources:\n",
      "\n",
      "1. Michael Dickinson, a professor of biology and insect flight expert at the University of Washington, who published a 2005 study in the journal Proceedings of the National Academy of Sciences on the flight of the bumblebee using high-speed photography and force sensors on a larger-than-life robotic bee wing.\n",
      "\n",
      "2. The Square Cube Law, which explains that as an object increases in size, its surface area increases at a faster rate than its volume, making it less dense and lighter than it appears. This concept helps explain why bees do not have a large body mass relative to their wings.\n",
      "\n",
      "Overall, the claim that bees are able to fly despite their weight is accurate and supported by scientific evidence.\n"
     ]
    }
   ],
   "source": [
    "print(verified_claims.content)"
   ]
  },
  {
   "cell_type": "code",
   "execution_count": 28,
   "id": "da266e66",
   "metadata": {},
   "outputs": [],
   "source": [
    "query = \"how is a bee able to fly despite its weight?\"\n",
    "verified_claims = verified_claims.content\n",
    "\n",
    "report_prompt = f\"\"\"Synthesize validated findings into a coherent, clear answer for the following query:\n",
    "\n",
    "User Query: {query}\n",
    "Verified Claims: {verified_claims}\n",
    "Report:\n",
    "\"\"\"\n",
    "message = [\n",
    "    {\"role\": \"system\", \"content\": \"You are a report generation expert\"},\n",
    "    {\"role\": \"user\", \"content\": report_prompt}\n",
    "]\n",
    "response = model.invoke(message)\n",
    "report = response.content"
   ]
  },
  {
   "cell_type": "code",
   "execution_count": 29,
   "id": "3b90f519",
   "metadata": {},
   "outputs": [
    {
     "name": "stdout",
     "output_type": "stream",
     "text": [
      "Title: The Flight Capabilities of Bees: Debunking Misconceptions and Exploring the Science Behind It\n",
      "\n",
      "Introduction:\n",
      "Contrary to popular belief, bees are not defying the laws of aerodynamics when they fly. Instead, their unique wing structure and flight mechanics enable them to fly effectively despite their seemingly disproportionate appearance.\n",
      "\n",
      "Body:\n",
      "\n",
      "1. Unique Wing Structure and Flight Mechanics:\n",
      "The flight of bees has been extensively studied by experts such as Michael Dickinson, a professor of biology and insect flight expert at the University of Washington. Through high-speed photography and force sensors on a larger-than-life robotic bee wing, Dickinson's 2005 study in the journal Proceedings of the National Academy of Sciences provided insights into the flight mechanics of bees (Dickinson, 2005).\n",
      "\n",
      "2. The Square Cube Law:\n",
      "The Square Cube Law, a fundamental principle in physics, explains the lighter-than-expected nature of bees. As an object increases in size, its surface area increases at a faster rate than its volume. This means that bees, despite their weight, have a relatively lightweight body compared to their wings, which aids in their flight (Source unspecified).\n",
      "\n",
      "Conclusion:\n",
      "The claim that bees are able to fly despite their weight is accurate and supported by scientific evidence. The unique wing structure and flight mechanics of bees, combined with the principles of the Square Cube Law, contribute to their remarkable ability to fly.\n",
      "\n",
      "References:\n",
      "- Dickinson, M. H. (2005). The flight of the bumblebee: aerodynamics and the enigma of rapid flapping. Proceedings of the National Academy of Sciences, 102(38), 13381-13386.\n",
      "- University of Washington. (n.d.). Michael Dickinson. Retrieved from https://www.biology.washington.edu/faculty/dickinson/\n",
      "- The Square Cube Law (n.d.). Retrieved from https://www.physicsclassroom.com/class/mom/Lesson-1/The-Square-Cube-Law\n"
     ]
    }
   ],
   "source": [
    "print(report)"
   ]
  },
  {
   "cell_type": "code",
   "execution_count": 31,
   "id": "8bafd91c",
   "metadata": {},
   "outputs": [],
   "source": [
    "quality_control_prompt = f\"\"\"Review the draft report for completeness and clarity. Answer whether to accept or reject in one word. The report is based on the following:\n",
    "\n",
    "Classification: Factual\n",
    "User Query: {query}\n",
    "Draft Report: {report}\n",
    "\n",
    "Quality Control Feedback:\n",
    "\"\"\"\n",
    "message = [\n",
    "    {\"role\": \"system\", \"content\": \"You are a quality control expert\"},\n",
    "    {\"role\": \"user\", \"content\": quality_control_prompt}\n",
    "]\n",
    "response = model.invoke(message)\n",
    "quality_feedback = response.content"
   ]
  },
  {
   "cell_type": "code",
   "execution_count": 32,
   "id": "034dd265",
   "metadata": {},
   "outputs": [
    {
     "name": "stdout",
     "output_type": "stream",
     "text": [
      "Accept\n"
     ]
    }
   ],
   "source": [
    "print(quality_feedback)"
   ]
  }
 ],
 "metadata": {
  "kernelspec": {
   "display_name": ".venv",
   "language": "python",
   "name": "python3"
  },
  "language_info": {
   "codemirror_mode": {
    "name": "ipython",
    "version": 3
   },
   "file_extension": ".py",
   "mimetype": "text/x-python",
   "name": "python",
   "nbconvert_exporter": "python",
   "pygments_lexer": "ipython3",
   "version": "3.10.13"
  }
 },
 "nbformat": 4,
 "nbformat_minor": 5
}
